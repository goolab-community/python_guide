{
 "cells": [
  {
   "cell_type": "markdown",
   "metadata": {},
   "source": [
    "# Modules\n",
    "პითონში მოდული წარმოადგენს, ერთი ფაილში გაერთიანებულ კოდის ნაწილს, რომელსაც აქვს რაიმე კოკრეტული დანიშნულება. მალითად სპეციალური მათემატიკური ფუნქციებისთვის (როგორიცაა sin, cos, tang, log და ა.შ.) შეგვიძლია გამოვიყენოთ math მოდული, რომელიც წინასწარ დაწერილი და გამზადებულია, ერთი პროგრამისტის ან ჯგუფის/ორგანიზაციის მიერ. \n",
    "როგორც კურსის დასაწყისში ავღნიშნეთ, პითონი გამოირჩევა პაკეტების და მოდულების უზარმაზარი რაოდენობით, რაც ავტომატურად მოიაზრებს, იმას თუ რამდენად მარტივია პითონზე იდეის რეალიზება."
   ]
  },
  {
   "cell_type": "markdown",
   "metadata": {},
   "source": [
    "# Packages and modules"
   ]
  },
  {
   "cell_type": "code",
   "execution_count": null,
   "metadata": {},
   "outputs": [],
   "source": [
    "# what's a module\n",
    "# what's a package\n",
    "# packadge structure\n",
    "# packadge importing methods\n"
   ]
  },
  {
   "cell_type": "markdown",
   "metadata": {},
   "source": [
    "# Installing and Importing modules"
   ]
  },
  {
   "cell_type": "markdown",
   "metadata": {},
   "source": [
    "```bash\n",
    "# install packet or module from commans line\n",
    "pip install requests```"
   ]
  },
  {
   "cell_type": "markdown",
   "metadata": {},
   "source": [
    "![flying python](https://imgs.xkcd.com/comics/python.png)"
   ]
  },
  {
   "cell_type": "markdown",
   "metadata": {},
   "source": [
    "# Importing modules"
   ]
  },
  {
   "cell_type": "code",
   "execution_count": null,
   "metadata": {},
   "outputs": [],
   "source": [
    "import module\n",
    "import packadge.modulename\n",
    "from packadge import module\n",
    "from module import *\n",
    "import module as md"
   ]
  },
  {
   "cell_type": "code",
   "execution_count": null,
   "metadata": {},
   "outputs": [],
   "source": [
    "from module import *\n",
    "ასეთი მეთოდით ხდება მოდულიდან ყველა ატრიბუტის და ფუნქციის იმპორტი გარდა _-აღნიშვნით დაწყებული სახელებისა."
   ]
  },
  {
   "cell_type": "markdown",
   "metadata": {},
   "source": [
    "# Importing modules from another path"
   ]
  },
  {
   "cell_type": "code",
   "execution_count": null,
   "metadata": {},
   "outputs": [],
   "source": [
    "sys.path.insert(0, '/another_path')\n",
    "import another_path_module"
   ]
  },
  {
   "cell_type": "markdown",
   "metadata": {},
   "source": [
    "თუ ინტერაქტიულ რეჟიმის დროს შევცვალეთ მოდულის მნიშვნელობა. \n",
    "ასეთ დროს უკვე შემოტანილი მოდულის გადატვირთვა( ახლიდან შემოტანა) შეგვიძლია შემდეგნაირად."
   ]
  },
  {
   "cell_type": "code",
   "execution_count": null,
   "metadata": {},
   "outputs": [],
   "source": [
    "import importlib\n",
    "import module\n",
    "importlib.reload(module)"
   ]
  },
  {
   "cell_type": "markdown",
   "metadata": {},
   "source": [
    "# გლობალური ცვლადი __name__ "
   ]
  },
  {
   "cell_type": "code",
   "execution_count": 9,
   "metadata": {},
   "outputs": [
    {
     "name": "stdout",
     "output_type": "stream",
     "text": [
      "python module test\n"
     ]
    }
   ],
   "source": [
    "# module test\n",
    "def test():\n",
    "  print('python module test')\n",
    "\n",
    "if __name__ == \"__main__\":\n",
    "    test()\n"
   ]
  },
  {
   "cell_type": "markdown",
   "metadata": {},
   "source": [
    "# სისტემური დირექტორიები sys.path"
   ]
  },
  {
   "cell_type": "code",
   "execution_count": 11,
   "metadata": {},
   "outputs": [
    {
     "name": "stdout",
     "output_type": "stream",
     "text": [
      "['/home/pyuser/repos/jupyter/pythonlen', '/usr/local/lib/python38.zip', '/usr/local/lib/python3.8', '/usr/local/lib/python3.8/lib-dynload', '', '/home/pyuser/repos/jupyter/pythonlen/.env/lib/python3.8/site-packages', '/home/pyuser/repos/jupyter/pythonlen/.env/lib/python3.8/site-packages/IPython/extensions', '/home/pyuser/.ipython']\n"
     ]
    }
   ],
   "source": [
    "import sys \n",
    "print(sys.path)"
   ]
  },
  {
   "cell_type": "markdown",
   "metadata": {},
   "source": [
    "# სატანდარტული ბიბლიოთეკები"
   ]
  },
  {
   "cell_type": "markdown",
   "metadata": {},
   "source": [
    "sys, os, gzip, time, datetime, random, socket, math, http\n",
    "pprint, collections, argparse, threading, multiprocessing, subprocess, asyncio,\n",
    "socket, json, http, turtle, pydoc, unittest, timeit, venv, abs, pwd, spwd,  ..... \n",
    "\n",
    "ყველა სტანდარტული ბიბლიოთეკის ჩამონათვალი https://docs.python.org/3/library/\n",
    "\n",
    "dir(),     help()\n"
   ]
  },
  {
   "cell_type": "markdown",
   "metadata": {},
   "source": [
    "# Module reloading"
   ]
  },
  {
   "cell_type": "code",
   "execution_count": null,
   "metadata": {},
   "outputs": [],
   "source": [
    "import importlib\n",
    "import lib\n",
    "import time\n",
    "\n",
    "while True:\n",
    "    time.sleep(1)\n",
    "    print('Reload!')\n",
    "    lib.print_something()\n",
    "    importlib.reload(lib)\n"
   ]
  },
  {
   "cell_type": "markdown",
   "metadata": {},
   "source": [
    "# lib module"
   ]
  },
  {
   "cell_type": "code",
   "execution_count": null,
   "metadata": {},
   "outputs": [],
   "source": [
    "def print_something():\n",
    "    print('hellooool1y')\n",
    "    print('hahahhaha')\n"
   ]
  },
  {
   "cell_type": "markdown",
   "metadata": {},
   "source": [
    "# Relative imports"
   ]
  }
 ],
 "metadata": {
  "kernelspec": {
   "display_name": "Python 3",
   "language": "python",
   "name": "python3"
  },
  "language_info": {
   "codemirror_mode": {
    "name": "ipython",
    "version": 3
   },
   "file_extension": ".py",
   "mimetype": "text/x-python",
   "name": "python",
   "nbconvert_exporter": "python",
   "pygments_lexer": "ipython3",
   "version": "3.8.2"
  }
 },
 "nbformat": 4,
 "nbformat_minor": 4
}
