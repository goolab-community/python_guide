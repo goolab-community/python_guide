{
 "cells": [
  {
   "cell_type": "markdown",
   "metadata": {
    "id": "keT_M0wofmn7"
   },
   "source": [
    "# ინსტალაცია"
   ]
  },
  {
   "cell_type": "markdown",
   "metadata": {
    "id": "bCGt9ub9fmn9"
   },
   "source": [
    "[python](https://www.python.org/)-ის საიტიდან ვიწერთ უახლესს ვერსიას ვინდოუსისთვის და ვხსნით საინსტალაციო ფაილს. \n",
    "ინსტალაციის პროცესში აუცილებელია მიეთითოს რომ პითონის გარემო დაემატოს სისტემურ მისამართებში.\n",
    "ამისთვის ვნიშნავთ \"Add Python 3.x to PATH\"-ს ინსტალაციისას.\n"
   ]
  },
  {
   "cell_type": "markdown",
   "metadata": {
    "id": "dXiyfKDufmn9"
   },
   "source": [
    "## ტექსტური რედაქტორები და IDE\n",
    "პროგრამის დაწერა შესაძლებელია ნებისმიერ ტექსტურ რედაქტორში, როგორიცაა:\n",
    "notebad, notepad++ ან პროგრამის დასაწერად განკუთვნილი პროგრამით, ე.წ. IDE-ით.\n",
    "\n",
    "IDE პროგრამებიდან ყველაზე მეტად გავრცელებულია:\n",
    "* [Mu](https://codewith.mu/)\n",
    "* [Pycharm](https://www.jetbrains.com/pycharm/)\n",
    "* [Visual Studio Code](https://code.visualstudio.com/)\n",
    "* [Atom editor](https://atom.io/)\n",
    "* [Sublime text](https://www.sublimetext.com/)\n",
    "\n",
    "ასევე შეგვიძლია გამოვიყენოთ ინტერაქტიული ტექსტური ედიტორები:\n",
    "* [Emacs](https://www.gnu.org/software/emacs/)\n",
    "* [Vim](https://www.vim.org/)\n",
    "\n"
   ]
  },
  {
   "cell_type": "markdown",
   "metadata": {
    "id": "CfN4eaRFfmn-"
   },
   "source": [
    "## პირველი პროგრამა\n",
    "გავხსნათ notepad და დავწეროთ შემდეგი:"
   ]
  },
  {
   "cell_type": "code",
   "execution_count": null,
   "metadata": {
    "id": "Of3ANXgufmn-"
   },
   "outputs": [],
   "source": [
    "print('Hello, World!')"
   ]
  },
  {
   "cell_type": "markdown",
   "metadata": {
    "id": "xpWfgiaofmn-"
   },
   "source": [
    "* დავიმახსოვროთ ფაილში test.py, ფაილს შეგვიძლია ნებისმიერი რაღაც დავარქვათ, ხოლო გაფართოება აუცილებლად უნდა იყოს .py\n",
    "* cmd-დან შევდივართ, იმ დირექტორიაში სადაც შევქმენით ფაილი. cmd-ში ნავიგაციისთვის შეგვიძლია გამოვიყენოთ ბრძანებები: cd - დირექტორიაში შესვლა, dir - დირექტორიაში არსებული ფაილების ჩვენება, მაგალითად:"
   ]
  },
  {
   "cell_type": "markdown",
   "metadata": {
    "id": "Qeaq31rrfmn_"
   },
   "source": [
    "#### Desktop დირქტორორიაში შევდივართ შემდეგნაირად"
   ]
  },
  {
   "cell_type": "code",
   "execution_count": null,
   "metadata": {
    "id": "HRFwkQM5fmn_"
   },
   "outputs": [],
   "source": [
    "cd C:\\Users\\your_name\\Desktop "
   ]
  },
  {
   "cell_type": "markdown",
   "metadata": {
    "id": "CsZGSeQ8fmn_"
   },
   "source": [
    "#### ხოლო დირექტორიიდან ერთი საფეხურით უკან გამოსვლა ხდება ბრძანებით"
   ]
  },
  {
   "cell_type": "code",
   "execution_count": null,
   "metadata": {
    "id": "TpYMb64Lfmn_"
   },
   "outputs": [],
   "source": [
    "cd .."
   ]
  },
  {
   "cell_type": "markdown",
   "metadata": {
    "id": "9d710E7FfmoA"
   },
   "source": [
    "დირექტორიაში შესვლის შემდეგ, პითონის ფაილს ვუშვებთ შემდეგნაირად:  "
   ]
  },
  {
   "cell_type": "code",
   "execution_count": null,
   "metadata": {
    "id": "-DUXpC4ofmoA"
   },
   "outputs": [],
   "source": [
    "python test.py"
   ]
  },
  {
   "cell_type": "markdown",
   "metadata": {
    "id": "uI9XWLzrfmoA"
   },
   "source": [
    "პროგრამა cmd-ში დაბეჭდავს \"Hello, World\"- ს"
   ]
  },
  {
   "cell_type": "markdown",
   "metadata": {
    "id": "ySsPZqGAfmoA"
   },
   "source": [
    "## PIP (Python Package Index) მენეჯერი\n",
    "pip მენეჯერი წარმოადგენს პროგრამას, რომლითაც ვაინსტალირებთ პითონის სხვა და სხვა ბიბლიოთეკებს, ოფიციალური [რეპოზიტორიიდან](https://pypi.org/). \n",
    "pip მენეჯერი პითონის ინსტალაციისას, ხშირ შემთხვევაში  ავტომატურად ინსტალირდება ძველი ვერსიით, ხოლო მისი განახლება შესახლებელია cmd-დან შემდეგნაირად:"
   ]
  },
  {
   "cell_type": "code",
   "execution_count": null,
   "metadata": {
    "id": "RqXjz8azh_AH"
   },
   "outputs": [],
   "source": [
    "python -m pip install --upgrade pip"
   ]
  },
  {
   "cell_type": "markdown",
   "metadata": {
    "id": "Rp83aJmMiDjd"
   },
   "source": [
    "იმ გამონაკლის შემთხვევებში, როდესაც ავტომატურად არ არის pip მენეჟერი დაინსტალირებული, შეგვიძლია ხელით დავაინსტალიროთ, მოცემული [ინსტრუქციის](https://pip.pypa.io/en/stable/installing/#installing-with-get-pip-py) მიხედვით."
   ]
  },
  {
   "cell_type": "code",
   "execution_count": null,
   "metadata": {
    "id": "I3B0AoZ8fmoB"
   },
   "outputs": [],
   "source": [
    "import time\n",
    "import math"
   ]
  },
  {
   "cell_type": "code",
   "execution_count": null,
   "metadata": {
    "id": "4brU4blKfmoB",
    "outputId": "8b809e84-bd17-496c-d3cf-e5d36b6645a1"
   },
   "outputs": [
    {
     "name": "stdout",
     "output_type": "stream",
     "text": [
      "\u001b[31mERROR: Could not find a version that satisfies the requirement numpysdfg (from versions: none)\u001b[0m\n",
      "\u001b[31mERROR: No matching distribution found for numpysdfg\u001b[0m\n",
      "\u001b[33mWARNING: You are using pip version 20.0.2; however, version 20.1 is available.\n",
      "You should consider upgrading via the '/home/pyuser/repos/jupyter/pythonlen/.env/bin/python -m pip install --upgrade pip' command.\u001b[0m\n",
      "Note: you may need to restart the kernel to use updated packages.\n"
     ]
    }
   ],
   "source": [
    "pip install numpy"
   ]
  },
  {
   "cell_type": "code",
   "execution_count": null,
   "metadata": {
    "id": "euLO80W1fmoC",
    "outputId": "dde7715c-69cf-4280-f926-1388f0a5a3f7"
   },
   "outputs": [
    {
     "data": {
      "text/plain": [
       "4.5"
      ]
     },
     "execution_count": 5,
     "metadata": {
      "tags": []
     },
     "output_type": "execute_result"
    }
   ],
   "source": [
    "numpy.abs(-4.5)"
   ]
  },
  {
   "cell_type": "markdown",
   "metadata": {
    "id": "IRyI4lyhfmoC"
   },
   "source": [
    "## ვირტუალური გარემო\n",
    "პროგრამის წერისას მოხერხებულია ვირტუალური გარემოს გამოყენება, რომელსაც ვაინსტალირებთ შემდეგნაირად:\n",
    "ვხსნით cmd-ს და გადავცემთ ბრძანებას!\n"
   ]
  },
  {
   "cell_type": "code",
   "execution_count": null,
   "metadata": {
    "id": "vYbqQyOVfmoC"
   },
   "outputs": [],
   "source": [
    "pip install virtualenv"
   ]
  },
  {
   "cell_type": "markdown",
   "metadata": {
    "id": "MrwWjoo3fmoC"
   },
   "source": [
    "### ვირტუალური გარემოს შექმნა\n",
    "ვირტუალური გარემოს ვქმნით env ფოლდერში შემდეგი ბრძანებით"
   ]
  },
  {
   "cell_type": "code",
   "execution_count": null,
   "metadata": {
    "id": "ZwnvzIn5fmoC"
   },
   "outputs": [],
   "source": [
    "virtualenv venv"
   ]
  },
  {
   "cell_type": "markdown",
   "metadata": {
    "id": "Nq3m_x7pfmoD"
   },
   "source": [
    "### ვირტუალური გარემოს გააქტიურება\n",
    "ვირტუალური გარემოს გააქტიურება ხდება იმავე დირექტორიიდან სადაც შეიქმნა activate.bat სკრიპტით შემდეგნაირად:"
   ]
  },
  {
   "cell_type": "code",
   "execution_count": null,
   "metadata": {
    "id": "5wc9LGV2fmoD"
   },
   "outputs": [],
   "source": [
    "venv\\Scripts\\activate.bat"
   ]
  },
  {
   "cell_type": "markdown",
   "metadata": {
    "id": "UPnQJA_YfmoD"
   },
   "source": [
    "### Linux -ზე და MacOS-ზე აქტივაცია"
   ]
  },
  {
   "cell_type": "code",
   "execution_count": null,
   "metadata": {
    "id": "DNTeHeWifmoD"
   },
   "outputs": [],
   "source": [
    "source venv/bin/activate"
   ]
  },
  {
   "cell_type": "markdown",
   "metadata": {
    "id": "ZixekupmfmoD"
   },
   "source": [
    "### ვირტუალური გარემოს დექტივაცია"
   ]
  },
  {
   "cell_type": "code",
   "execution_count": null,
   "metadata": {
    "id": "nQA7X5ySfmoD"
   },
   "outputs": [],
   "source": [
    "deactivate"
   ]
  },
  {
   "cell_type": "markdown",
   "metadata": {
    "id": "dPLI_NCufmoD"
   },
   "source": [
    "# UNIX-ის \"შებანგი\" და ფაილის კოდირების ფორმატი"
   ]
  },
  {
   "cell_type": "markdown",
   "metadata": {
    "id": "SpAh8nYHfmoD"
   },
   "source": [
    "### unix შებანგი"
   ]
  },
  {
   "cell_type": "markdown",
   "metadata": {
    "id": "1mt1xdKAfmoD"
   },
   "source": [
    "BSD-ის ტიპის უნიქს სისტემებში, პითონის სკრიპტი შეგვიძლია გავუშვათ პირდაპირ, ინტერპრეტატორის მითითების გარეშე, ისევე როგორც .bash და .sh ფაილები. ასეთ შემთხვევაში ოპერაციული სისტემა კითხულობს სკრიპტის პირველ ხაზს (ე.წ. შებანგი) და უშვებს ფაილს მითითებული ინტერპრეტატორით, მაგალითად:"
   ]
  },
  {
   "cell_type": "raw",
   "metadata": {
    "id": "iJtFukLufmoE"
   },
   "source": [
    "#!/usr/bin/env python3.9"
   ]
  },
  {
   "cell_type": "markdown",
   "metadata": {
    "id": "YfXXC7GZfmoE"
   },
   "source": [
    "მოცემულ ხაზზე ზუსტად შეგვიძლია მივუთითოდ თუ რომელი ვერსიის ინტერპრეტატორით გაეშვას ფაილი."
   ]
  },
  {
   "cell_type": "markdown",
   "metadata": {
    "id": "IWQziRlBfmoE"
   },
   "source": [
    "### კოდირების ფორმატი"
   ]
  },
  {
   "cell_type": "markdown",
   "metadata": {
    "id": "D5Ipk4w3fmoE"
   },
   "source": [
    "ნებისმიერი ტექსტური ფაილი, კომპიუტერის მეხსიერებაში ინახება გარკვეული კოდირების მეთოდით. პითონის შემთხვევაში, თუ ფაილის დასაწყისში არ მივუთითეთ კოდირების მეთოდი, ოპერაციული სისტემა ფაილს მეხსიერებაში დამახსოვრებს მისთვის ძირითადი (დეფაულთ) კოდირებით, რაც ვინდოუსის შემთხვევაში იქნება CP1253, ხოლო ლინუქსის შემთხვევაში UTF-8.\n",
    "იმ შემთხვევაში თუ გვინდა რომ ცალსახად განვსაზღვროთ კოდირების მეთოდი, ამისთვის ფაილის დასაწყისში, შებანგ ხაზის შემდეგ, ვწერთ კოდირბის მეთოდს შემდეგნაირად:"
   ]
  },
  {
   "cell_type": "code",
   "execution_count": null,
   "metadata": {
    "id": "RxSHN6QwfmoE"
   },
   "outputs": [],
   "source": [
    "#!/usr/bin/env python3\n",
    "# -*- coding: utf-8 -*-"
   ]
  },
  {
   "cell_type": "markdown",
   "metadata": {
    "id": "pOKEwCZHfmoE"
   },
   "source": [
    "მოცემულ შემთხვევაში ცხადახ განსაზღვრულია კოდირების მეთოდი UTF-8."
   ]
  }
 ],
 "metadata": {
  "colab": {
   "collapsed_sections": [],
   "name": "0. ვინდოუსზე პითონის დაინსტალირება და კონფიგურაცია.ipynb",
   "provenance": []
  },
  "kernelspec": {
   "display_name": "Python 3 (ipykernel)",
   "language": "python",
   "name": "python3"
  },
  "language_info": {
   "codemirror_mode": {
    "name": "ipython",
    "version": 3
   },
   "file_extension": ".py",
   "mimetype": "text/x-python",
   "name": "python",
   "nbconvert_exporter": "python",
   "pygments_lexer": "ipython3",
   "version": "3.10.8"
  }
 },
 "nbformat": 4,
 "nbformat_minor": 1
}
