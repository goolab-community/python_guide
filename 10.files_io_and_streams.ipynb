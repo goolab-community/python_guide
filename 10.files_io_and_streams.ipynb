{
 "cells": [
  {
   "cell_type": "markdown",
   "metadata": {},
   "source": [
    "# File IO, Open ფუნქცია"
   ]
  },
  {
   "cell_type": "markdown",
   "metadata": {},
   "source": [
    "პითონიდან ოპერაციულ სისტემაზე ფაილის წვდომისთვის გამოიყენება open ფუნქცია, რომელსაც არგუმენტად გადაეცემა: ფაილის მისამართი, რეჟიმი და კოდირების მეთოდი. "
   ]
  },
  {
   "cell_type": "code",
   "execution_count": 6,
   "metadata": {},
   "outputs": [],
   "source": [
    "# open ფუნქცია დააბრუნებს ობიექტს file ცვლადში\n",
    "file = open('./temp.txt', 'w', encoding='utf-8')"
   ]
  },
  {
   "cell_type": "markdown",
   "metadata": {},
   "source": [
    "ფუნქციას პირველ არგუმენტად გადაეცემა, ფაილის მისამართი \"./temp.txt\". მეორე არგუმენტად ფაილთან მიმართვის მეთოდი, მოცემულ შემთხვევაში 'w' მიუთითებს რომ ფაილი გახსნილია მხოლოდ ჩაწერის რეჟიმში."
   ]
  },
  {
   "cell_type": "markdown",
   "metadata": {},
   "source": [
    "**ფაილთან მიმართვის მეთოდები**\n",
    "\n",
    "- 'r' მხოლოდ წაკითხვის რეჟიმი\n",
    "- 'w' ფაილის გახსნა ჩასაწერად, წაშლის და ჩაწერს ახლიდან\n",
    "- 'x' ქმნის ერთჯერადად, გამორიცხავს უკვე არსებული ფაილის ხელმეორედ შემქმნას\n",
    "- 'a' ფაილის გახსნა ჩასაწერად, თუ ფაილი არსებობს დაამატებს ინფორმაციას\n",
    "- 'b' ბინარული რეჟიმი\n",
    "- 't' ტექსტური რეჟიმი (default)\n",
    "- '+' დამატებითი არგუმენტი ფაილის გახსნის და განახლებისთვის (წაკითხვა + ჩაწერა) მაგ.\n",
    "- 'r+' არგუმენტით მოხდება ფაილის ფახსნა წაკითხვის და ჩაწერის რეჟიმში."
   ]
  },
  {
   "cell_type": "markdown",
   "metadata": {},
   "source": [
    "ბოლო არგუმენტი წარმოადგენს, კოდირების მეთოდს რომელიც ფაილთან მუშაობისთვის გვჭირდება, მოცმულ შემთხვევაში ფაილს მივმართავთ utf-8 კოდირების მეთოდით. \n",
    "იმ შემთხვევაში თუ არ მიუთითედ კოდირების მეთოდი, write ფუნქცია თავისით ირჩევს utf-8-ს linux-ზე და macOS-ზე, ხოლო cp-1252-ს Windows-ზე.\n",
    "პლატფორმაზე დამოკიდებული კოდირების გაგება შეგვიძლია getpreferredencoding მეთოდით, შემდეგნაირად:"
   ]
  },
  {
   "cell_type": "code",
   "execution_count": 33,
   "metadata": {},
   "outputs": [
    {
     "name": "stdout",
     "output_type": "stream",
     "text": [
      "UTF-8\n"
     ]
    }
   ],
   "source": [
    "import locale\n",
    "encoding = locale.getpreferredencoding()\n",
    "print(encoding)"
   ]
  },
  {
   "cell_type": "markdown",
   "metadata": {},
   "source": [
    "## write მეთოდი, ფაილში ჩაწერა\n",
    "write მეთოდით შეგვიძლია ფაილში ინფორმაციის ჩაწერა, აუცილია დავიმახსოვროთ, რომ მოცემულ შემთხვევაში თუ დავხურავთ ფაილს და გავხსნით იმავე რეჟიმში და გამოვიძახებთ, write მეთოდს, მოხდება ფაილზე ზემოდან გადაწერა და არა უკვე არსებულზე დამატება."
   ]
  },
  {
   "cell_type": "code",
   "execution_count": 7,
   "metadata": {},
   "outputs": [
    {
     "data": {
      "text/plain": [
       "13"
      ]
     },
     "execution_count": 7,
     "metadata": {},
     "output_type": "execute_result"
    }
   ],
   "source": [
    "# ფაილში ჩაწერა\n",
    "file.write('Hello, World!')"
   ]
  },
  {
   "cell_type": "markdown",
   "metadata": {},
   "source": [
    "## close მეთოდი\n",
    "close მეთოდით დახურავს ფაილთან მიმართვას და გაანთავიუფლებს გამოყოფილ მეხსიერებას.\n",
    "*აუცილებელია გავითვალისწინოთ, რომ close მეთოდის გამოძახების გარეშე არ მოხდება ფაილში ინფორმაციის ჩაწერა, რადგან write მეთოდი ინფორმაციას წერს მეხსიერების ფუნფერში და არა დაილში, ხოლო ამ შემთხვევაში close მეთოდის გამოძახების შემდეგ ფაილში ჩაიწერება ინფორმაცია."
   ]
  },
  {
   "cell_type": "code",
   "execution_count": 8,
   "metadata": {},
   "outputs": [],
   "source": [
    "file.close()"
   ]
  },
  {
   "cell_type": "markdown",
   "metadata": {},
   "source": [
    "## read მეთოდი, ფაილის წაკითხვა\n",
    "მოცემულ მაგალითში ფაილს ვხსნით წაკითხვის რეჟიმში.\n",
    "*აუცილებელია დავიმახსოვროთ რომ ფაილის წაკითხვის შემდგომ აუცილებალი მისი დახურვა, რომ გამოთავისუფლდეს მეხსიერების ის ნაწილი რომელიც გამოიყენება ფაილზე მუშაობის პროცესში*"
   ]
  },
  {
   "cell_type": "code",
   "execution_count": 9,
   "metadata": {},
   "outputs": [
    {
     "name": "stdout",
     "output_type": "stream",
     "text": [
      "Hello, World!\n"
     ]
    }
   ],
   "source": [
    "f = open('temp.txt', 'r')\n",
    "text = f.read()\n",
    "print(text)\n",
    "f.close()"
   ]
  },
  {
   "cell_type": "markdown",
   "metadata": {},
   "source": [
    "## ფაილის გახსნა წაკითხვის და ჩაწერის რეჟიმში\n",
    "'r+' პარამეტრით, შეგვიძლია ფაილის როგორც წაკითხვა ასევე ჩაწერა, მაგრამ თუ ფაილი არ არსებობს მისი შექმნა არ შეგვიძლია. რაც შესაძლებალია 'w' პარამეტრით. "
   ]
  },
  {
   "cell_type": "code",
   "execution_count": 12,
   "metadata": {},
   "outputs": [
    {
     "name": "stdout",
     "output_type": "stream",
     "text": [
      "Hello, World! asdf asdf\n"
     ]
    }
   ],
   "source": [
    "f = open('temp.txt', 'r+', encoding='utf-8')\n",
    "text = f.read()\n",
    "print(text)\n",
    "f.write(' asdf asdf')\n",
    "f.close()"
   ]
  },
  {
   "cell_type": "code",
   "execution_count": 13,
   "metadata": {},
   "outputs": [
    {
     "name": "stdout",
     "output_type": "stream",
     "text": [
      "Hello, World! asdf asdf asdf asdf\n"
     ]
    }
   ],
   "source": [
    "file_text = open('temp.txt', 'r').read()\n",
    "print(file_text)"
   ]
  },
  {
   "cell_type": "markdown",
   "metadata": {},
   "source": [
    "## ფაილის გახსნა 'append' მეთოდით\n",
    "'a' პარამეტრით, შესაძლებელია ფაილის გახსნა და მასში არსებულ ტექსტზე დამატება, რაც 'w'-ის შემთხვევაში შეუძლებელი იყო, მაგრამ არ გვაქვს ფაილის წაკითხვის უფლება."
   ]
  },
  {
   "cell_type": "code",
   "execution_count": 20,
   "metadata": {},
   "outputs": [],
   "source": [
    "f = open('temp123.txt', 'a', encoding='utf-8')\n",
    "f.write('Hello')\n",
    "f.close()"
   ]
  },
  {
   "cell_type": "code",
   "execution_count": 21,
   "metadata": {},
   "outputs": [
    {
     "name": "stdout",
     "output_type": "stream",
     "text": [
      "HelloHelloHelloHelloHello\n"
     ]
    }
   ],
   "source": [
    "file_text = open('temp123.txt', 'r').read()\n",
    "print(file_text)"
   ]
  },
  {
   "cell_type": "markdown",
   "metadata": {},
   "source": [
    "## ფაილის გახსნა 'x' პარამეტრით, \n",
    "'x' პარამეტრი გვიცავს უკვე არსებული ფაილის ფახსნისგან, რომ შემთხვევით არ გადავაწეროთ და დავიზიანოთ. აღძრავს შეცდომას თუ ფაილი უკვე არსებობს."
   ]
  },
  {
   "cell_type": "code",
   "execution_count": 27,
   "metadata": {},
   "outputs": [],
   "source": [
    "f = open('temp22.txt', 'x', encoding='utf-8')\n",
    "f.write('Hello')\n",
    "f.close()\n"
   ]
  },
  {
   "cell_type": "code",
   "execution_count": 23,
   "metadata": {},
   "outputs": [
    {
     "name": "stdout",
     "output_type": "stream",
     "text": [
      "Hello\n"
     ]
    }
   ],
   "source": [
    "file_text = open('temp22.txt', 'r').read()\n",
    "print(file_text)"
   ]
  },
  {
   "cell_type": "markdown",
   "metadata": {},
   "source": [
    "## seek, tell მეთოდები "
   ]
  },
  {
   "cell_type": "code",
   "execution_count": null,
   "metadata": {},
   "outputs": [],
   "source": []
  },
  {
   "cell_type": "code",
   "execution_count": null,
   "metadata": {},
   "outputs": [],
   "source": [
    "# with statement"
   ]
  },
  {
   "cell_type": "code",
   "execution_count": null,
   "metadata": {},
   "outputs": [],
   "source": []
  },
  {
   "cell_type": "code",
   "execution_count": null,
   "metadata": {},
   "outputs": [],
   "source": [
    "# open text file like iterator"
   ]
  },
  {
   "cell_type": "code",
   "execution_count": null,
   "metadata": {},
   "outputs": [],
   "source": []
  },
  {
   "cell_type": "code",
   "execution_count": null,
   "metadata": {},
   "outputs": [],
   "source": [
    "# read write binary data, like images"
   ]
  },
  {
   "cell_type": "code",
   "execution_count": null,
   "metadata": {},
   "outputs": [],
   "source": []
  },
  {
   "cell_type": "code",
   "execution_count": null,
   "metadata": {},
   "outputs": [],
   "source": [
    "# io.StringIO('hello') amd mro"
   ]
  },
  {
   "cell_type": "code",
   "execution_count": null,
   "metadata": {},
   "outputs": [],
   "source": []
  },
  {
   "cell_type": "code",
   "execution_count": null,
   "metadata": {},
   "outputs": [],
   "source": [
    "# stdout, stderr, stdin"
   ]
  },
  {
   "cell_type": "code",
   "execution_count": null,
   "metadata": {},
   "outputs": [],
   "source": []
  },
  {
   "cell_type": "code",
   "execution_count": null,
   "metadata": {},
   "outputs": [],
   "source": [
    "# redirecting stdout and stderr"
   ]
  },
  {
   "cell_type": "code",
   "execution_count": 7,
   "metadata": {},
   "outputs": [
    {
     "name": "stdout",
     "output_type": "stream",
     "text": [
      "boot\n",
      "sys\n",
      "proc\n",
      "sbin\n",
      "bin\n",
      "lib32\n",
      "opt\n",
      "home\n",
      "srv\n",
      "libx32\n",
      "root\n",
      "usr\n",
      "etc\n",
      "snap\n",
      "dev\n",
      "run\n",
      "mnt\n",
      "lost+found\n",
      "media\n",
      "lib\n",
      "lib64\n",
      "tmp\n",
      "var\n"
     ]
    }
   ],
   "source": [
    "import os\n",
    "files = os.listdir(\"/\")\n",
    "for n in files:\n",
    "    print(n)"
   ]
  },
  {
   "cell_type": "code",
   "execution_count": null,
   "metadata": {},
   "outputs": [],
   "source": []
  }
 ],
 "metadata": {
  "kernelspec": {
   "display_name": "Python 3",
   "language": "python",
   "name": "python3"
  },
  "language_info": {
   "codemirror_mode": {
    "name": "ipython",
    "version": 3
   },
   "file_extension": ".py",
   "mimetype": "text/x-python",
   "name": "python",
   "nbconvert_exporter": "python",
   "pygments_lexer": "ipython3",
   "version": "3.8.2"
  }
 },
 "nbformat": 4,
 "nbformat_minor": 4
}
