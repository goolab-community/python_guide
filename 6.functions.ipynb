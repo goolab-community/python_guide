{
 "cells": [
  {
   "cell_type": "markdown",
   "metadata": {},
   "source": [
    "ფუნქცია წარმოადგენს კოდის ნაწილს რომელიც მოქცეულია ერთი დასახელების ქვეშ და მის გამოსაყენებლად საკმარისია მივმართოთ მხოლოდ ფუნქციის დასახელებით.\n",
    "\n",
    "## ფუნქციის გამოცხადება\n",
    "ფუნქციის გამოცხადება ხდება def ქივორდით შემდეგნაირად:"
   ]
  },
  {
   "cell_type": "code",
   "execution_count": 16,
   "metadata": {},
   "outputs": [
    {
     "name": "stdout",
     "output_type": "stream",
     "text": [
      "[1, 2, 3, 4, 'hello']\n",
      "[1, 2, 3, 4, 'hello', '234']\n",
      "['asdf', '555', 3]\n",
      "['vvvvv']\n"
     ]
    }
   ],
   "source": [
    "l = [1,2,3,4]\n",
    "\n",
    "def main(a, b = None):\n",
    "    if not b:\n",
    "        b = []\n",
    "    b.append(a)\n",
    "    print(b)\n",
    "\n",
    "main('hello', l)\n",
    "main('234', l)\n",
    "main(3, b=['asdf','555'])\n",
    "main('vvvvv')"
   ]
  },
  {
   "cell_type": "code",
   "execution_count": 1,
   "metadata": {},
   "outputs": [
    {
     "name": "stdout",
     "output_type": "stream",
     "text": [
      "Hello, World!\n",
      "Hello, World!\n",
      "Hello, World!\n",
      "Hello, World!\n",
      "Hello, World!\n"
     ]
    }
   ],
   "source": [
    "# ფუნქციის გამოცხადება\n",
    "def some_function():\n",
    "    # ფუნქციაში მოთავსებული კოდის ნაწილი, \n",
    "    # ინდენტაციისთვის(indentation) კიდედან დაშორებულია ოთხი გამოტოვებით\n",
    "    for n in range(5):\n",
    "        print('Hello, World!')\n",
    "# ფუნქციის გამოძახება\n",
    "some_function()"
   ]
  },
  {
   "cell_type": "markdown",
   "metadata": {},
   "source": [
    "ფუნქციის შიგნით მოთავსებული კოდის ინდენტაცია ხდება გამოტოვებებით, მინიმუმ ერთი. სტანდარტის მიხედვით მიღებულია, კოდის კიდედან, ოთხი გამოტოვებით დაშორება. გამოტოვებებით ინტერპრეტატორი ხვდება თუ საიდან იწყება და სად მთავრდება ფუნქციის კოდის ნაწილი. ქვემოთ მოცემულ მაგალითში თვალსაჩინოებისთვის კოდის ნაწილი მოცემულია ფუნქციის გარეშე, ხოლო შემდგომ იგივე კოდი ფუნქციის შიგნით."
   ]
  },
  {
   "cell_type": "code",
   "execution_count": 2,
   "metadata": {},
   "outputs": [
    {
     "name": "stdout",
     "output_type": "stream",
     "text": [
      "sdfsdfds\n",
      "sdfsdfds\n"
     ]
    }
   ],
   "source": [
    "text = \"w23 234 sdf sdfsdfds ojwe\"\n",
    "words = text.split()\n",
    "\n",
    "# პირობითი მოქმედების ბლოკის დასაწყისი\n",
    "temp = ''\n",
    "for word in words:    \n",
    "    if len(word) > len(temp):\n",
    "        temp = word\n",
    "# პირობითი მოქმედების ბლოკის დასასრული\n",
    "\n",
    "print(temp)\n",
    "\n",
    "# მოცემული ფუნქცია იმეორებს ზემოთ აღწერილ ლოგიკას\n",
    "def find_max_string(words): \n",
    "    temp = ''\n",
    "    for word in words:    \n",
    "        if len(word) > len(temp):\n",
    "            temp = word\n",
    "    return temp \n",
    "\n",
    "from_function = find_max_string(words)\n",
    "\n",
    "print(from_function)"
   ]
  },
  {
   "cell_type": "markdown",
   "metadata": {},
   "source": [
    "## ფუნქციისათვის პარამეტრების გადაცემა და დაბრუნება\n",
    "ფუნქციისათვის პარამეტრების გადაცემა ხდება, ფუნქციის დასახელების შემდეგ ფრჩხილებში, ხოლო დაბრუნება \n",
    "return ქივორდით. ფუნქციიდან შეგვიძლია დავაბრუნოთ როგორც ერთი ცვლადი, ასევე კოლექცია ან ნებისმიერი ობიექტი."
   ]
  },
  {
   "cell_type": "code",
   "execution_count": 3,
   "metadata": {},
   "outputs": [
    {
     "name": "stdout",
     "output_type": "stream",
     "text": [
      "81\n"
     ]
    }
   ],
   "source": [
    "def power(number, p):\n",
    "    return number**p\n",
    "\n",
    "result = power(3, 4)\n",
    "print(result)"
   ]
  },
  {
   "cell_type": "markdown",
   "metadata": {},
   "source": [
    "## პარამეტრების გადაცემა, წინასწარ განსაზღვრული მნიშვნელობებით\n",
    "ფუნქციას შეგვიძლია გადავცეთ პარამეტრები, რომლებსაც უკვე მინიჭებული აქვს გარკვეული მნიშვნელობები, \n",
    "მაგალითად:"
   ]
  },
  {
   "cell_type": "code",
   "execution_count": 6,
   "metadata": {},
   "outputs": [
    {
     "name": "stdout",
     "output_type": "stream",
     "text": [
      "Hi, Chuck Norriss\n"
     ]
    }
   ],
   "source": [
    "def say_hi(first_name = 'John', last_name = 'Doe'):\n",
    "    print(f'Hi, {first_name} {last_name}')\n",
    "\n",
    "#say_hi()    \n",
    "first_name='Chuck'\n",
    "last_name='Norriss'\n",
    "say_hi(first_name, last_name)"
   ]
  },
  {
   "cell_type": "markdown",
   "metadata": {},
   "source": [
    "იმ შემთხვევაში თუ ფუნქციას არ გადავცემთ პარამეტრებს, მშინ first_name, last_name ცვლადები მიიღებენ 'John' და 'Doe' მნიშვნელობებს შესაბამისად."
   ]
  },
  {
   "cell_type": "code",
   "execution_count": 5,
   "metadata": {},
   "outputs": [
    {
     "name": "stdout",
     "output_type": "stream",
     "text": [
      "Hi, John Doe\n"
     ]
    }
   ],
   "source": [
    "say_hi()"
   ]
  },
  {
   "cell_type": "markdown",
   "metadata": {
    "scrolled": false
   },
   "source": [
    "## global parameters"
   ]
  },
  {
   "cell_type": "markdown",
   "metadata": {},
   "source": [
    "ნებიმიერი ცვლადი რომელიც გამოცხადებულია ფუნქციაში, რჩება ფუნქციის შიგნით და გარედან მასზე არანაირი წვდომა არ გვაქვს, ფუნციის შესრულებისას მის შიგნით არსებული ცვლადები იქმნება და ნადგურდება ფუნქციის დასრულების მომენტში. \n",
    "განვიხილოთ შემთხვევა როდესაც ფუნციის გარეთ გამოცხადებულ ცვლადს ვანიჭებთ ახალ მნიშვნელობას ფუნქციაში:"
   ]
  },
  {
   "cell_type": "code",
   "execution_count": 8,
   "metadata": {},
   "outputs": [
    {
     "name": "stdout",
     "output_type": "stream",
     "text": [
      "15\n",
      "15\n"
     ]
    }
   ],
   "source": [
    "number = 90 # global variable\n",
    "\n",
    "def increment():\n",
    "    number = 14 #local variable\n",
    "    number = number + 1\n",
    "    print(number)\n",
    "    \n",
    "\n",
    "increment()\n",
    "print(number)"
   ]
  },
  {
   "cell_type": "markdown",
   "metadata": {},
   "source": [
    "როგორ დავინახეთ, ფუნქციის გარეთ გამოცხადებულ number ცვლადს არანაირი კავშირი არა აქვს ფუნციაში გამოცხადებულ number ცვლადთან, მიუხედავად იმისა რომ ფუნქციაში ვიყენებთ იგივე დასახელების ცვლადს.\n",
    "იმ შემთხვევაში თუ გვსურს ფუნქციის გარეთ გამოცხადებულ ცვლადს მივანიჭოთ რაიმე მნიშვნელობა, აუცილებელია მივუთითოდ რომ ცვლადი არის გლობალური. მაგალითად:"
   ]
  },
  {
   "cell_type": "code",
   "execution_count": 7,
   "metadata": {},
   "outputs": [
    {
     "name": "stdout",
     "output_type": "stream",
     "text": [
      "1\n",
      "1\n"
     ]
    }
   ],
   "source": [
    "number = 9\n",
    "\n",
    "def increment():\n",
    "    global number\n",
    "    number = 0\n",
    "    number = number + 1\n",
    "    print(number)\n",
    "    \n",
    "\n",
    "increment()\n",
    "print(number)"
   ]
  },
  {
   "cell_type": "markdown",
   "metadata": {},
   "source": [
    "## nonlocal \n",
    "პითონში შესაძლებელია ფუნქციის შიგნით ფუნქციის გამოცხადება. ქვემოთ მოცემულ მაგალითში nonlocal ქივორდი მიუთითებს რომ multiply ფუნქციაში არსებული number ცვლადი, მის ერთი საფეხურით გარეთ გამოცხადებული ფუნქციის number ცვლადია."
   ]
  },
  {
   "cell_type": "code",
   "execution_count": 28,
   "metadata": {},
   "outputs": [
    {
     "name": "stdout",
     "output_type": "stream",
     "text": [
      "1\n",
      "6\n",
      "9\n"
     ]
    }
   ],
   "source": [
    "number = 9\n",
    "\n",
    "def increment():\n",
    "    number = 0\n",
    "    number = number + 1\n",
    "    def multiply():\n",
    "        nonlocal number\n",
    "        number = 3\n",
    "        number *=2\n",
    "    \n",
    "    print(number)\n",
    "    multiply()\n",
    "    print(number)\n",
    "    \n",
    "increment()\n",
    "\n",
    "print(number)"
   ]
  },
  {
   "cell_type": "markdown",
   "metadata": {},
   "source": [
    "## *argv\n",
    "თუ ფუნქციის პარამეტრს წინ დავუწერთ *-ს, ასეთი პარამეტრი მიიღებს ნებისმიერი რაოდენობის არგუმენტს,\n",
    "რომელსაც გადეცემა მნიშვნელობების გარეშე, მაგალითად:"
   ]
  },
  {
   "cell_type": "code",
   "execution_count": 33,
   "metadata": {},
   "outputs": [
    {
     "name": "stdout",
     "output_type": "stream",
     "text": [
      "1\n"
     ]
    }
   ],
   "source": [
    "# n number of arguments\n",
    "def main(*argv):\n",
    "    print(argv)\n",
    "    print(argv[0])\n",
    "    \n",
    "\n",
    "main(1,2,3,4)"
   ]
  },
  {
   "cell_type": "markdown",
   "metadata": {},
   "source": [
    "როგორც დავინახეთ ყველა არგუმენტი argv ცვლადში მოცემულია tuple-ს ტიპის კოლექციის სახით. ამ შემთხვევაში ცვლადის დასახელება \"argv\" პირობითია და შეგვიძლია ნებისმიერი დასახელების გამოყენება."
   ]
  },
  {
   "cell_type": "markdown",
   "metadata": {},
   "source": [
    "## **kwargs\n",
    "იმ შემთხვევაში თუ არგუმენტიის მიწერილია ორი ფიფქი, იგულისხმება რომ ფუნქციას შეგვიძლია გადავცეთ ნებისმიერი რაოდენობის სახელდებული \"keyword\" არგუმენტები."
   ]
  },
  {
   "cell_type": "code",
   "execution_count": 37,
   "metadata": {},
   "outputs": [
    {
     "name": "stdout",
     "output_type": "stream",
     "text": [
      "(2, 3)\n",
      "<class 'dict'>\n",
      "{'a': 2, 'b': 5}\n"
     ]
    }
   ],
   "source": [
    "def main(*argv, **kwargs):\n",
    "    print(argv)\n",
    "    print(type(kwargs))\n",
    "    print(kwargs)\n",
    "    #print(type(kwargs), kwargs)\n",
    "    #print(kwargs['fruit'])\n",
    "    #print(kwargs['color'])\n",
    "    \n",
    "main(2, 3, a=2, b=5)"
   ]
  },
  {
   "cell_type": "code",
   "execution_count": 10,
   "metadata": {},
   "outputs": [
    {
     "name": "stdout",
     "output_type": "stream",
     "text": [
      "<class 'dict'> {'fruit': 'apple', 'color': 'red'}\n",
      "apple\n",
      "red\n"
     ]
    }
   ],
   "source": [
    "def main(**kwargs):\n",
    "    print(type(kwargs), kwargs)\n",
    "    print(kwargs['fruit'])\n",
    "    print(kwargs['color'])\n",
    "    არგუმენტები\n",
    "d = {'fruit': 'apple', \"color\":'red'}\n",
    "\n",
    "main(**d)"
   ]
  },
  {
   "cell_type": "markdown",
   "metadata": {},
   "source": [
    "როგორც გამოჩნდა **kwargs-ით გადაცემული არგუმენტები ფუნქციაში შევიდა როგორც დიქშენარი, ხოლო ამ შემთხვევაშიც kwargs დასახელება პირობითია."
   ]
  },
  {
   "cell_type": "markdown",
   "metadata": {},
   "source": [
    "**პითონი დინამიურიური პროგრამირების ენაა, ამითომ გარდა სტანდარტული ტიპებისა, ფუნქციას არგუმენტად შეგვიძლია გადავცეთ, ფუნქცია ან ნებისმიერი ობიექტი, აქედან გამომდინარე არც დასაბრუნებელი ტიპით ვართ შეზღუდულები.**"
   ]
  },
  {
   "cell_type": "markdown",
   "metadata": {},
   "source": [
    "ქვემოთ მოცემულ მაგალითში, ფუნქციას გადაეცემა როგორც ცხადად განსაზღვრული პარამეტრი language, ასევე ნებისმიერი რაოდენობის პარამეტრები versions და ნებისმიერი რაოდენობის ქეივორდ არგუმენტები years. "
   ]
  },
  {
   "cell_type": "code",
   "execution_count": 22,
   "metadata": {},
   "outputs": [
    {
     "name": "stdout",
     "output_type": "stream",
     "text": [
      "python\n",
      "python1, python2, python3\n",
      "{'python1': 1989, 'python2': 2000, 'python3': 2008}\n"
     ]
    }
   ],
   "source": [
    "def versions(language, *versions, **years):\n",
    "    print(language)\n",
    "    print(f'{language}{versions[0]}, {language}{versions[1]}, {language}{versions[2]}')\n",
    "    print(years)\n",
    "\n",
    "versions('python',  1, 2, 3, python1=1989, python2=2000, python3=2008)"
   ]
  },
  {
   "cell_type": "markdown",
   "metadata": {},
   "source": [
    "### მნიშვნელოვანია გავითვალისწინოთ, რომ ფუნქციას პირველ რიგში გადაეცემა მნიშვნელობები ხოლო შემდეგ ქივორდ არგუმენტები, წინააღმდეგ შემთხვევაში მოხდება სინტაქსური შეცდომა.\n",
    "მაგალითად შეცდომაა ფუნქციისთვის არგუმენტების შემდეგნაირად გადაცემა:"
   ]
  },
  {
   "cell_type": "code",
   "execution_count": 12,
   "metadata": {},
   "outputs": [
    {
     "ename": "SyntaxError",
     "evalue": "positional argument follows keyword argument (<ipython-input-12-e9df35a5b0d8>, line 1)",
     "output_type": "error",
     "traceback": [
      "\u001b[0;36m  File \u001b[0;32m\"<ipython-input-12-e9df35a5b0d8>\"\u001b[0;36m, line \u001b[0;32m1\u001b[0m\n\u001b[0;31m    versions(python1=1989, 'python',  1, 2, 3, python2=2000, python3=2008)\u001b[0m\n\u001b[0m                           ^\u001b[0m\n\u001b[0;31mSyntaxError\u001b[0m\u001b[0;31m:\u001b[0m positional argument follows keyword argument\n"
     ]
    }
   ],
   "source": [
    "versions(python1=1989, 'python',  1, 2, 3, python2=2000, python3=2008)"
   ]
  },
  {
   "cell_type": "markdown",
   "metadata": {},
   "source": [
    "განვიხილოთ შემთხვევა როდესაც ფუნქციას გადაეცემა როგორც პოზიციური არგუმენტები, ასევე ქივორდ არგუმენტები და ამავე დროს ქივორდ არგუმენტების სახელები ემთხვევა პოზიციურისას. მაგალითად:"
   ]
  },
  {
   "cell_type": "code",
   "execution_count": 8,
   "metadata": {},
   "outputs": [],
   "source": [
    "def main(length, height, **kwargs):\n",
    "    print(length, height)\n",
    "    print(kwargs)"
   ]
  },
  {
   "cell_type": "code",
   "execution_count": 9,
   "metadata": {},
   "outputs": [
    {
     "ename": "TypeError",
     "evalue": "main() got multiple values for argument 'height'",
     "output_type": "error",
     "traceback": [
      "\u001b[0;31m---------------------------------------------------------------------------\u001b[0m",
      "\u001b[0;31mTypeError\u001b[0m                                 Traceback (most recent call last)",
      "\u001b[0;32m<ipython-input-9-8052dee6608d>\u001b[0m in \u001b[0;36m<module>\u001b[0;34m\u001b[0m\n\u001b[0;32m----> 1\u001b[0;31m \u001b[0mmain\u001b[0m\u001b[0;34m(\u001b[0m\u001b[0;36m99\u001b[0m\u001b[0;34m,\u001b[0m \u001b[0;36m77\u001b[0m\u001b[0;34m,\u001b[0m \u001b[0;34m**\u001b[0m\u001b[0;34m{\u001b[0m\u001b[0;34m'height'\u001b[0m\u001b[0;34m:\u001b[0m\u001b[0;36m92\u001b[0m\u001b[0;34m,\u001b[0m \u001b[0;34m'length'\u001b[0m\u001b[0;34m:\u001b[0m\u001b[0;36m19\u001b[0m\u001b[0;34m,\u001b[0m \u001b[0;34m'quantity'\u001b[0m\u001b[0;34m:\u001b[0m\u001b[0;36m123\u001b[0m\u001b[0;34m}\u001b[0m\u001b[0;34m)\u001b[0m\u001b[0;34m\u001b[0m\u001b[0;34m\u001b[0m\u001b[0m\n\u001b[0m",
      "\u001b[0;31mTypeError\u001b[0m: main() got multiple values for argument 'height'"
     ]
    }
   ],
   "source": [
    "main(99, 77, **{'height':92, 'length':19, 'quantity':123})"
   ]
  },
  {
   "cell_type": "markdown",
   "metadata": {},
   "source": [
    "ვხედავთ რომ მოცემული სახით ფუნქციის გამოცხადებამ გამოიწვია ერორი, რაც გამოწვეული იმით რომ არ შეიძლება ფუნქციას გადაეცემოდეს რამოდენიმე არგუმენტი ერთი და იგივე სახელით, მაგრამ როგორ მოვიქცეთ ისეთ შემთხვევაში თუ არ ვიცით თუ რა სახელის ქივორდ პარამეტრები მოგვივა kwargs არგუმენტში? ასეთი შემთხვევისთვის ფუნქციის გამოცხადების სინტაქსში დაშვებულია `/` პარამეტრის გამოყენება, რომელის საშუალებითაც kwargs პარამეტრებში მიღებული მნიშვნელობები გადაფარავს პოზიციურ პარამეტრებს, მაგალითად. "
   ]
  },
  {
   "cell_type": "code",
   "execution_count": 11,
   "metadata": {},
   "outputs": [],
   "source": [
    "def main(length, height, /, **kwargs):\n",
    "    print(length, height)\n",
    "    print(kwargs)"
   ]
  },
  {
   "cell_type": "code",
   "execution_count": 12,
   "metadata": {},
   "outputs": [
    {
     "name": "stdout",
     "output_type": "stream",
     "text": [
      "99 77\n",
      "{'height': 92, 'length': 19, 'quantity': 123}\n"
     ]
    }
   ],
   "source": [
    "main(99, 77, **{'height':92, 'length':19, 'quantity':123})"
   ]
  }
 ],
 "metadata": {
  "kernelspec": {
   "display_name": "Python 3",
   "language": "python",
   "name": "python3"
  },
  "language_info": {
   "codemirror_mode": {
    "name": "ipython",
    "version": 3
   },
   "file_extension": ".py",
   "mimetype": "text/x-python",
   "name": "python",
   "nbconvert_exporter": "python",
   "pygments_lexer": "ipython3",
   "version": "3.8.2"
  }
 },
 "nbformat": 4,
 "nbformat_minor": 4
}
