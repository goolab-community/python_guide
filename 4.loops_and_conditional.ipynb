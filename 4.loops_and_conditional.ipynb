{
 "cells": [
  {
   "cell_type": "markdown",
   "metadata": {},
   "source": [
    "# პირობითი ოპერატორები if, elif, else\n",
    "პირობითი ოპერატორებია if, elif, else. \n",
    "if ოპერატორი, ასრულებს მასში მოთავსებულ კოდის ნაწილს, იმ შემთხვევაში თუ გარკვეულ პირობის შედეგი ჭეშმარიტია (დადებთია). კარგად გასაგებად მოვიყვანოთ თერმოსტატის მუშაობის მაგალითი, რომელიც გარკვეულ საზღვრებში, 22 გრადუსიდან 27 გრადუსამდე ინარჩუნებს ტერმპერატურას. \n"
   ]
  },
  {
   "cell_type": "code",
   "execution_count": 11,
   "metadata": {},
   "outputs": [
    {
     "name": "stdout",
     "output_type": "stream",
     "text": [
      "a 5-ის ტოლია\n"
     ]
    }
   ],
   "source": [
    "s = 50\n",
    "a = 5\n",
    "\n",
    "if a >= s:\n",
    "    print('a მეტია')\n",
    "elif a == 5:\n",
    "    print('a 5-ის ტოლია')\n",
    "elif a == 7:\n",
    "    print('a 7-ის ტოლია')\n",
    "elif a == 0:\n",
    "    print('a ნულის ტოლია')\n",
    "else:\n",
    "    print('ნაკლებია')"
   ]
  },
  {
   "cell_type": "code",
   "execution_count": 14,
   "metadata": {
    "scrolled": true
   },
   "outputs": [
    {
     "name": "stdout",
     "output_type": "stream",
     "text": [
      "Enter temperature: 24\n",
      "ტემპერატურა სტაბილურია\n"
     ]
    }
   ],
   "source": [
    "# ტემპერატურის მინიმალური ზღვარი\n",
    "min_temperature = 22\n",
    "# ტემპერატურის მაქსიმალური ზღვარი\n",
    "max_temperature = 27\n",
    "\n",
    "# მიმდინარე (არსებული)  ტემპერატურა\n",
    "current_temperature = int(input('Enter temperature: '))\n",
    "\n",
    "# თუ ტემპერატურა მინიმალურ ზღვარს ქვემოთაა\n",
    "if current_temperature < min_temperature:\n",
    "    print('ჩართე გათბობა!')\n",
    "# თუ ტემპერატურა მინიმალურ ზღვარს ზევითაა\n",
    "elif current_temperature >= max_temperature:\n",
    "    print('ჩართე გაგრილება!')\n",
    "# თუ ტემპერატურა არც ზღვარს ქვემოთაა და არც ზღვარს ზევით\n",
    "else:\n",
    "    print('ტემპერატურა სტაბილურია')"
   ]
  },
  {
   "cell_type": "markdown",
   "metadata": {},
   "source": [
    "  ვცადოთ current_temperature-ს მივანიჭოთ სხვა და სხვა მნიშვნელობები, მაგალითად: 10, 24, 29. დავინახავთ რომ 10 გრადუსის შემთხვევაში, პროგრამა დაბეჭდავს მხოლოდ \"ჩართე გათბობა!\"-ს, ხოლო დანარჩენ ყველაფერს უგულებელყოფს, რადგან პირველი პირობის current_temperature < min_temperature შედეგი \"ჭეშმარიტია\". elif შესრულდება მხოლოდ მაშინ როდესაც მის წინ მდგომი პირობის შედეგი \"მცდარია\", ამიტომ 10 გრადუსის შემთხვევაში elif-ის შემდეგ print('ჩართე გაგრილება!') არ შესრულდება. რაც შეეხება else-ს, სრულდება იმ შემთხვევაში თუ მის წინ მდებარე if და არცერთი else-ის პირობა არ დაკმაყოფილდა. თუ current_temperature-ას მივანიჭებთ 24 გრადუსს, მაშინ არ შესრულდება if და elif ოპერატორები, შესრულდება მხოლოდ else ოპერატორის პირობა და კონსოლზე დაიბეჭდება \"ტემპერატურა სტაბილურია\", ხოლო current_temperature-ისთვის 29 გრადუსის მინიჭებით შესრულდება მხოლოდ elif ოპერატორის ნაწილი, რადგან პირობა current_temperature >= max_temperature ჭეშმარიტია და კონსოლზე დაიბეჭდება: \"ჩართე გაგრილება!\". **აუცილებელია დავიმახსოვროთ რომ if ოპერატორის გარეშე, ცალკე elif და else-ის გამოყენება შეუძლებელია. else შეგვიძლია გამოვიყენოთ მხოლოდ ერთხელ, if და else ოპერატორების შემდეგ, როგორც უკანასკნელი მოქმედება, ხოლო else ოპერატორი შეგვიძლია გამოვიყენოთ if ოპერატორის შემდეგ, რამდენჯერაც მოგვვესურვება.**\n"
   ]
  },
  {
   "cell_type": "markdown",
   "metadata": {},
   "source": [
    "## Ternary Operator"
   ]
  },
  {
   "cell_type": "code",
   "execution_count": 2,
   "metadata": {},
   "outputs": [
    {
     "name": "stdout",
     "output_type": "stream",
     "text": [
      "True\n"
     ]
    }
   ],
   "source": [
    "x = 25\n",
    "result = True if x == 25 else False\n",
    "print(result)"
   ]
  },
  {
   "cell_type": "markdown",
   "metadata": {},
   "source": [
    "## while ციკლი\n",
    "while ციკლის დანიშნულებაა ციკლურად ამუშაოს პროგრამის ნაწილი რომლიც მის შეგნითაა მოთავსებული, ციკლი იმუშავებს მანამდე სანამ while ციკლის პირობა იქნება დადებითი. მაგალითად ქვემოთ მოცემული პროგრამა წამოადგენს while ციკლს, რომელიც იმუშავებს მანამ სანამ i ცვლადის მნიშვნელობა არ გახდება 10-ის ტოლი. "
   ]
  },
  {
   "cell_type": "code",
   "execution_count": 1,
   "metadata": {
    "scrolled": true
   },
   "outputs": [
    {
     "name": "stdout",
     "output_type": "stream",
     "text": [
      "1\n",
      "2\n",
      "3\n",
      "4\n",
      "5\n",
      "6\n",
      "7\n",
      "8\n",
      "9\n",
      "10\n",
      "End\n"
     ]
    }
   ],
   "source": [
    "# შემოვიტანეთ ცვლადი i და მივანიჭეთ მნიშვნელობა 0\n",
    "i = 0\n",
    "\n",
    "# while ციკლი პირობით - სანამ i ნაკლებია 10-ზე\n",
    "while i < 10:\n",
    "    # i ცვლადისთვის i-ის დამატება და მინიჭება საკუთარ თავზე, \n",
    "    # იგივეა რაც i = i + 1\n",
    "    i +=1\n",
    "    # i ცვლადის მნიშვნელობის დაბეჭდვა კონსოლზე \n",
    "    print(i)\n",
    "print('End')"
   ]
  },
  {
   "cell_type": "markdown",
   "metadata": {},
   "source": [
    "## break and continue \n",
    "break ოპერატორით შესაძლებელია ციკლის შეწყვეტა, უპირობოდ ნებისმიერ შემთხვევაში. მაგალითად ქვემოთ მოყვანილ შემთხვევაში ციკლი შეწყდება მაშინ, როდესაც i მეტია 9-ზე. \n",
    "continue ოპერატორით ციკლი აღარ შეასრულებს continue-ს შემდგომ მოქმედებებს და გადავა შემდეგ ცილზე, მაგალითად ქვემოთ მოცემულ შემთხვევაში, მაშინ როდესაც i გაუტოლდება 7-ს, პროგრამის ნაწილი, კერძოდ \"print('Reached: ', i)\" აღარ შესრულდება, ამოტომ ეკრანზე არ დაიწერება \"Reached:  7\".\n"
   ]
  },
  {
   "cell_type": "code",
   "execution_count": 18,
   "metadata": {
    "scrolled": true
   },
   "outputs": [
    {
     "name": "stdout",
     "output_type": "stream",
     "text": [
      "Reached:  1\n",
      "Reached:  2\n",
      "Reached:  3\n",
      "Reached:  4\n",
      "Reached:  5\n",
      "Reached:  6\n",
      "Reached:  8\n",
      "Reached:  9\n"
     ]
    }
   ],
   "source": [
    "# შემოვიტანეთ ცვლადი i და მივანიჭეთ მნიშვნელობა 0\n",
    "i = 0\n",
    "\n",
    "# while ციკლი პირობით - სანამ i ნაკლებია 12-ზე\n",
    "while i < 12:\n",
    "    # i ცვლადისთვის i-ის დამატება და მინიჭება საკუთარ თავზე, \n",
    "    # იგივეა რაც i = i + 1\n",
    "    i += 1\n",
    "    # თუ i მეტია 9-ზე, ციკლი შეწყდება break ბრძანებით\n",
    "    if i > 9:\n",
    "        break \n",
    "    # თუ i ტოლია 7-ის, ციკლი გამოტოვებს მის შემდეგ არსებულ ნაწილს და\n",
    "    # გააგრძელებს მუშაობას while-დან \n",
    "    if i == 7:\n",
    "        continue\n",
    "    # შედეგის კონსოლზე დაბეჭდვა\n",
    "    print('Reached: ', i)"
   ]
  },
  {
   "cell_type": "markdown",
   "metadata": {},
   "source": [
    "while-ის მუშაობა კარგად გამოჩნდება ზემოთ მოყვანილი თერმოსტატის მაგალითზე. ამისთვის თერმოსტატის  პროგამას დავუმატოთ ტემპერატურის მუდმივად (ციკლურად) შემოწმების შესაძლებლობა.\n",
    "წინა შემთხვევისგან განსხვავებით ციკლი იმუშავებს მანამდე, სანამ thermostat_on ცვლადის მნიშვნელობა არ გახდება False. ამჯერად რადგან thermostat_on-ის მნიშვნელობა არის True და არ იცვლება, ამიტომ ციკლი იმუშავებს უსასრულოდ.   "
   ]
  },
  {
   "cell_type": "code",
   "execution_count": 2,
   "metadata": {},
   "outputs": [
    {
     "name": "stdout",
     "output_type": "stream",
     "text": [
      "გარემო ტემპერატურა:34\n",
      "ჩართე გაგრილება!\n",
      "გარემო ტემპერატურა:15\n",
      "ჩართე გათბობა!\n",
      "გარემო ტემპერატურა:23\n",
      "ტემპერატურა სტაბილურია\n"
     ]
    },
    {
     "ename": "KeyboardInterrupt",
     "evalue": "Interrupted by user",
     "output_type": "error",
     "traceback": [
      "\u001b[0;31m---------------------------------------------------------------------------\u001b[0m",
      "\u001b[0;31mKeyboardInterrupt\u001b[0m                         Traceback (most recent call last)",
      "\u001b[0;32m<ipython-input-2-f430c8f60987>\u001b[0m in \u001b[0;36m<module>\u001b[0;34m\u001b[0m\n\u001b[1;32m     11\u001b[0m     \u001b[0;31m# input ფუნქცია დააბრუნებს მომხმარებლის მიერ ჩაწერილ\u001b[0m\u001b[0;34m\u001b[0m\u001b[0;34m\u001b[0m\u001b[0;34m\u001b[0m\u001b[0m\n\u001b[1;32m     12\u001b[0m     \u001b[0;31m# რიცხვს სტრინფის სახით, ხოლო int ფუნქცია, სტრინგს გარდაქმნის მთელ რიცხვად\u001b[0m\u001b[0;34m\u001b[0m\u001b[0;34m\u001b[0m\u001b[0;34m\u001b[0m\u001b[0m\n\u001b[0;32m---> 13\u001b[0;31m     \u001b[0mcurrent_temperature\u001b[0m \u001b[0;34m=\u001b[0m \u001b[0mint\u001b[0m\u001b[0;34m(\u001b[0m\u001b[0minput\u001b[0m\u001b[0;34m(\u001b[0m\u001b[0;34m'გარემო ტემპერატურა:'\u001b[0m\u001b[0;34m)\u001b[0m\u001b[0;34m)\u001b[0m\u001b[0;34m\u001b[0m\u001b[0;34m\u001b[0m\u001b[0m\n\u001b[0m\u001b[1;32m     14\u001b[0m \u001b[0;34m\u001b[0m\u001b[0m\n\u001b[1;32m     15\u001b[0m     \u001b[0;31m# თუ ტემპერატურა მინიმალურ ზღვარს ქვემოთათაა\u001b[0m\u001b[0;34m\u001b[0m\u001b[0;34m\u001b[0m\u001b[0;34m\u001b[0m\u001b[0m\n",
      "\u001b[0;32m~/repos/jupyter/pythonlen/.env/lib/python3.8/site-packages/ipykernel/kernelbase.py\u001b[0m in \u001b[0;36mraw_input\u001b[0;34m(self, prompt)\u001b[0m\n\u001b[1;32m    858\u001b[0m                 \u001b[0;34m\"raw_input was called, but this frontend does not support input requests.\"\u001b[0m\u001b[0;34m\u001b[0m\u001b[0;34m\u001b[0m\u001b[0m\n\u001b[1;32m    859\u001b[0m             )\n\u001b[0;32m--> 860\u001b[0;31m         return self._input_request(str(prompt),\n\u001b[0m\u001b[1;32m    861\u001b[0m             \u001b[0mself\u001b[0m\u001b[0;34m.\u001b[0m\u001b[0m_parent_ident\u001b[0m\u001b[0;34m,\u001b[0m\u001b[0;34m\u001b[0m\u001b[0;34m\u001b[0m\u001b[0m\n\u001b[1;32m    862\u001b[0m             \u001b[0mself\u001b[0m\u001b[0;34m.\u001b[0m\u001b[0m_parent_header\u001b[0m\u001b[0;34m,\u001b[0m\u001b[0;34m\u001b[0m\u001b[0;34m\u001b[0m\u001b[0m\n",
      "\u001b[0;32m~/repos/jupyter/pythonlen/.env/lib/python3.8/site-packages/ipykernel/kernelbase.py\u001b[0m in \u001b[0;36m_input_request\u001b[0;34m(self, prompt, ident, parent, password)\u001b[0m\n\u001b[1;32m    891\u001b[0m             \u001b[0;32mexcept\u001b[0m \u001b[0mKeyboardInterrupt\u001b[0m\u001b[0;34m:\u001b[0m\u001b[0;34m\u001b[0m\u001b[0;34m\u001b[0m\u001b[0m\n\u001b[1;32m    892\u001b[0m                 \u001b[0;31m# re-raise KeyboardInterrupt, to truncate traceback\u001b[0m\u001b[0;34m\u001b[0m\u001b[0;34m\u001b[0m\u001b[0;34m\u001b[0m\u001b[0m\n\u001b[0;32m--> 893\u001b[0;31m                 \u001b[0;32mraise\u001b[0m \u001b[0mKeyboardInterrupt\u001b[0m\u001b[0;34m(\u001b[0m\u001b[0;34m\"Interrupted by user\"\u001b[0m\u001b[0;34m)\u001b[0m \u001b[0;32mfrom\u001b[0m \u001b[0;32mNone\u001b[0m\u001b[0;34m\u001b[0m\u001b[0;34m\u001b[0m\u001b[0m\n\u001b[0m\u001b[1;32m    894\u001b[0m             \u001b[0;32melse\u001b[0m\u001b[0;34m:\u001b[0m\u001b[0;34m\u001b[0m\u001b[0;34m\u001b[0m\u001b[0m\n\u001b[1;32m    895\u001b[0m                 \u001b[0;32mbreak\u001b[0m\u001b[0;34m\u001b[0m\u001b[0;34m\u001b[0m\u001b[0m\n",
      "\u001b[0;31mKeyboardInterrupt\u001b[0m: Interrupted by user"
     ]
    }
   ],
   "source": [
    "thermostat_on = True\n",
    "\n",
    "# ტემპერატურის მინიმალური ზღვარი\n",
    "min_temperature = 22\n",
    "# ტემპერატურის მაქსიმალური ზღვარი\n",
    "max_temperature = 27\n",
    "\n",
    "# while ციკლი იმუშავებს უსასრულოდ, რადგან thermostat_on არის ყოველთვის True\n",
    "while thermostat_on:\n",
    "    # current_temperature ცვლადში ინახება მიმდინარე (არსებული)  ტემპერატურა\n",
    "    # input ფუნქცია დააბრუნებს მომხმარებლის მიერ ჩაწერილ\n",
    "    # რიცხვს სტრინფის სახით, ხოლო int ფუნქცია, სტრინგს გარდაქმნის მთელ რიცხვად\n",
    "    current_temperature = int(input('გარემო ტემპერატურა:'))\n",
    "\n",
    "    # თუ ტემპერატურა მინიმალურ ზღვარს ქვემოთათაა\n",
    "    if current_temperature < min_temperature:\n",
    "        print('ჩართე გათბობა!')\n",
    "    # თუ ტემპერატურა მინიმალურ ზღვარს ზევითაა\n",
    "    elif current_temperature >= max_temperature:\n",
    "        print('ჩართე გაგრილება!')\n",
    "    # თუ ტემპერატურა არც ზღვარს ქვემოთაა და არც ზღვარს ზევით\n",
    "    else:\n",
    "        print('ტემპერატურა სტაბილურია')\n",
    "\n"
   ]
  },
  {
   "cell_type": "markdown",
   "metadata": {},
   "source": [
    "## for ციკლი\n",
    "for ციკლი მიმოიხილავს მისთვის გადაცემული კოლექციის თვითეულ წევრს და ციკლის ყოველ ეტაპზე მნიშვნელობებს დააბრუნებს ცვლადში და ამუშავებს ციკლის შიგნით მოთავსებული კოდს, მანამდე სანამ range  ფუნქცია კოლექციის ბოლო წევრს არ დააბრუნებს. \n",
    "ქვემოთ მოცემული მაგალითზე, ფუნქცია range(10) აბრუნებს რიცხვების კოლექციას 0 დან 10-მდე, ერთის ბიჯით, ხოლო n-ში ყოველ ჯერზე მოვა (0, 1, 2, 3, 4, 5, 6, 7, 8, 9) რიცხვები თანმიმდევრულად.\n"
   ]
  },
  {
   "cell_type": "code",
   "execution_count": 3,
   "metadata": {},
   "outputs": [
    {
     "name": "stdout",
     "output_type": "stream",
     "text": [
      "0\n",
      "hello\n",
      "1\n",
      "hello\n",
      "2\n",
      "hello\n",
      "3\n",
      "hello\n",
      "4\n",
      "hello\n",
      "5\n",
      "hello\n",
      "6\n",
      "hello\n",
      "7\n",
      "hello\n",
      "8\n",
      "hello\n",
      "9\n",
      "hello\n",
      "End\n"
     ]
    }
   ],
   "source": [
    "# range ფუნქცია დააბრუნებს რიცხვებს 0-დან 10-მდე,\n",
    "# ხოლო for ციკლი n ცვლადს მიანიჭებს მოცემულ რიცხვებს თანმიმდევრობით\n",
    "for n in range(10): # 0, 1, 2, 3 \n",
    "    print(n)\n",
    "    print('hello')\n",
    "print('End')"
   ]
  },
  {
   "cell_type": "markdown",
   "metadata": {},
   "source": [
    "range ფუნქციისთვის შესაძლებელია პარამეტრის გადაცემა, რომელიც მიუთითებს თუ საიდან დაიწყოს რიცხვების კოლექცია, მაგალითად:"
   ]
  },
  {
   "cell_type": "code",
   "execution_count": 6,
   "metadata": {},
   "outputs": [
    {
     "name": "stdout",
     "output_type": "stream",
     "text": [
      "4\n",
      "5\n",
      "6\n",
      "7\n",
      "8\n",
      "9\n",
      "10\n",
      "11\n"
     ]
    }
   ],
   "source": [
    "# range ფუნქცია დააბრუნებს რიცხვებს 4-დან 12-მდე,\n",
    "# ხოლო for ციკლი n ცვლადს მიანიჭებს მოცემულ რიცხვებს თანმიმდევრობით\n",
    "for n in range(4, 12):\n",
    "    print(n)"
   ]
  },
  {
   "cell_type": "markdown",
   "metadata": {},
   "source": [
    "ასევე შესაძლებელია პარამეტრის გადაცემა, რომელიც მიუთითებს კოლექციის წევრებს შირის ბიჯს, \n",
    "მაგალითად ქვემოთ მოცემულ შემთხვევაში, range დააბრუნებს რიცხვებს 10-დან 100-მდე, 20-ის ბიჯით:\n",
    "10, 30, 50, 70, 90 ."
   ]
  },
  {
   "cell_type": "code",
   "execution_count": 6,
   "metadata": {
    "scrolled": false
   },
   "outputs": [
    {
     "name": "stdout",
     "output_type": "stream",
     "text": [
      "10\n",
      "30\n",
      "50\n",
      "70\n",
      "90\n"
     ]
    }
   ],
   "source": [
    "# range ფუნქცია დააბრუნებს რიცხვებს 10-დან 100-მდე,\n",
    "# 10-ის ბიჯით, ხოლო for ციკლი n ცვლადს მიანიჭებს მოცემულ რიცხვებს თანმიმდევრობით\n",
    "for n in range(10, 100, 20):\n",
    "    print(n)"
   ]
  },
  {
   "cell_type": "code",
   "execution_count": 28,
   "metadata": {
    "scrolled": false
   },
   "outputs": [
    {
     "name": "stdout",
     "output_type": "stream",
     "text": [
      "100\n",
      "95\n",
      "90\n",
      "85\n",
      "80\n",
      "75\n"
     ]
    }
   ],
   "source": [
    "for n in range(100, 70, -5):\n",
    "    print(n)"
   ]
  },
  {
   "cell_type": "code",
   "execution_count": 27,
   "metadata": {},
   "outputs": [
    {
     "name": "stdout",
     "output_type": "stream",
     "text": [
      "week day:  ორშაბათი\n",
      "week day:  სამშაბათი\n",
      "week day:  ოთხშაბათი\n",
      "week day:  ხუთშაბათი\n",
      "week day:  პარასკევი\n",
      "week day:  შაბათი\n",
      "week day:  კვირა\n"
     ]
    }
   ],
   "source": [
    "for week_day in ['ორშაბათი', 'სამშაბათი', 'ოთხშაბათი', 'ხუთშაბათი', 'პარასკევი', 'შაბათი', 'კვირა']:\n",
    "    print('week day: ', week_day)"
   ]
  }
 ],
 "metadata": {
  "kernelspec": {
   "display_name": "Python 3",
   "language": "python",
   "name": "python3"
  },
  "language_info": {
   "codemirror_mode": {
    "name": "ipython",
    "version": 3
   },
   "file_extension": ".py",
   "mimetype": "text/x-python",
   "name": "python",
   "nbconvert_exporter": "python",
   "pygments_lexer": "ipython3",
   "version": "3.8.2"
  }
 },
 "nbformat": 4,
 "nbformat_minor": 4
}
