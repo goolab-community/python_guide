{
 "cells": [
  {
   "cell_type": "markdown",
   "metadata": {},
   "source": [
    "# მეორე გაკვეთილი. მატემატიკური და ლოგიკური ოპერატორები print ფუნქცია.  "
   ]
  },
  {
   "cell_type": "markdown",
   "metadata": {},
   "source": [
    "## მათემატიკური ოპერატორები\n",
    "* = მინიჭება\n",
    "* \\+ შეკრება\n",
    "* \\- გამოკლება\n",
    "* \\* გამრავლება\n",
    "* / გაყოფა\n",
    "* ** ხარისხი\n",
    "* % ნაშთი\n",
    "* // გაყობა, "
   ]
  },
  {
   "cell_type": "code",
   "execution_count": 1,
   "metadata": {},
   "outputs": [
    {
     "data": {
      "text/plain": [
       "True"
      ]
     },
     "execution_count": 1,
     "metadata": {},
     "output_type": "execute_result"
    }
   ],
   "source": [
    "True or False   "
   ]
  },
  {
   "cell_type": "code",
   "execution_count": 40,
   "metadata": {
    "scrolled": true
   },
   "outputs": [
    {
     "name": "stdout",
     "output_type": "stream",
     "text": [
      "Enter something:\n"
     ]
    }
   ],
   "source": [
    "F = input('Enter something:')"
   ]
  },
  {
   "cell_type": "code",
   "execution_count": 41,
   "metadata": {},
   "outputs": [
    {
     "name": "stdout",
     "output_type": "stream",
     "text": [
      "\n"
     ]
    }
   ],
   "source": [
    "print(F)"
   ]
  },
  {
   "cell_type": "code",
   "execution_count": 42,
   "metadata": {},
   "outputs": [
    {
     "name": "stdout",
     "output_type": "stream",
     "text": [
      "C <class 'str'>\n"
     ]
    }
   ],
   "source": [
    "print(n, type(n))"
   ]
  },
  {
   "cell_type": "markdown",
   "metadata": {},
   "source": [
    "## ლოგიკური ოპერატორები \n",
    "* ==  - ტოლობა \n",
    "* `>`  - მეტობა\n",
    "* <   - ნაკლებობა\n",
    "* `>=`  - მეტობა ან ტოლობა\n",
    "* <=  - ნაკლებობა ან ტოლობა \n",
    "* !=  - უტოლობა\n",
    "* not - უარყოფა \n",
    "* and - ლოგიკური და \n",
    "* or  - ლოგიკური ან "
   ]
  },
  {
   "cell_type": "code",
   "execution_count": 1,
   "metadata": {},
   "outputs": [
    {
     "name": "stdout",
     "output_type": "stream",
     "text": [
      "False\n"
     ]
    },
    {
     "data": {
      "text/plain": [
       "True"
      ]
     },
     "execution_count": 1,
     "metadata": {},
     "output_type": "execute_result"
    }
   ],
   "source": [
    "a = True #-> 1 asdfasd\n",
    "b = False #-> 0\n",
    "\n",
    "\n",
    "temperature = 10\n",
    "print(temperature > 23)\n",
    "not (temperature > 23)"
   ]
  },
  {
   "cell_type": "markdown",
   "metadata": {},
   "source": [
    "# and"
   ]
  },
  {
   "cell_type": "code",
   "execution_count": 24,
   "metadata": {},
   "outputs": [
    {
     "data": {
      "text/plain": [
       "True"
      ]
     },
     "execution_count": 24,
     "metadata": {},
     "output_type": "execute_result"
    }
   ],
   "source": [
    "True and True "
   ]
  },
  {
   "cell_type": "code",
   "execution_count": 25,
   "metadata": {},
   "outputs": [
    {
     "data": {
      "text/plain": [
       "False"
      ]
     },
     "execution_count": 25,
     "metadata": {},
     "output_type": "execute_result"
    }
   ],
   "source": [
    "True and False "
   ]
  },
  {
   "cell_type": "code",
   "execution_count": 26,
   "metadata": {},
   "outputs": [
    {
     "data": {
      "text/plain": [
       "False"
      ]
     },
     "execution_count": 26,
     "metadata": {},
     "output_type": "execute_result"
    }
   ],
   "source": [
    "False and True "
   ]
  },
  {
   "cell_type": "code",
   "execution_count": 27,
   "metadata": {},
   "outputs": [
    {
     "data": {
      "text/plain": [
       "False"
      ]
     },
     "execution_count": 27,
     "metadata": {},
     "output_type": "execute_result"
    }
   ],
   "source": [
    "False and False "
   ]
  },
  {
   "cell_type": "markdown",
   "metadata": {},
   "source": [
    "# OR"
   ]
  },
  {
   "cell_type": "code",
   "execution_count": 29,
   "metadata": {},
   "outputs": [
    {
     "data": {
      "text/plain": [
       "True"
      ]
     },
     "execution_count": 29,
     "metadata": {},
     "output_type": "execute_result"
    }
   ],
   "source": [
    "True or True"
   ]
  },
  {
   "cell_type": "code",
   "execution_count": 30,
   "metadata": {},
   "outputs": [
    {
     "data": {
      "text/plain": [
       "True"
      ]
     },
     "execution_count": 30,
     "metadata": {},
     "output_type": "execute_result"
    }
   ],
   "source": [
    "False or True"
   ]
  },
  {
   "cell_type": "code",
   "execution_count": 31,
   "metadata": {},
   "outputs": [
    {
     "data": {
      "text/plain": [
       "True"
      ]
     },
     "execution_count": 31,
     "metadata": {},
     "output_type": "execute_result"
    }
   ],
   "source": [
    "True or False"
   ]
  },
  {
   "cell_type": "code",
   "execution_count": 32,
   "metadata": {},
   "outputs": [
    {
     "data": {
      "text/plain": [
       "False"
      ]
     },
     "execution_count": 32,
     "metadata": {},
     "output_type": "execute_result"
    }
   ],
   "source": [
    "False or False"
   ]
  },
  {
   "cell_type": "markdown",
   "metadata": {},
   "source": [
    "# not"
   ]
  },
  {
   "cell_type": "code",
   "execution_count": 33,
   "metadata": {},
   "outputs": [
    {
     "data": {
      "text/plain": [
       "True"
      ]
     },
     "execution_count": 33,
     "metadata": {},
     "output_type": "execute_result"
    }
   ],
   "source": [
    "not False"
   ]
  },
  {
   "cell_type": "code",
   "execution_count": 34,
   "metadata": {},
   "outputs": [
    {
     "data": {
      "text/plain": [
       "False"
      ]
     },
     "execution_count": 34,
     "metadata": {},
     "output_type": "execute_result"
    }
   ],
   "source": [
    "not True"
   ]
  },
  {
   "cell_type": "markdown",
   "metadata": {},
   "source": [
    "## ორობითი ოპერატორები \n",
    "* | ორობითი შეკრება\n",
    "* & ორობითი ნამრავლი \n",
    "* ~ ინვერსია\n",
    "* ^ ორობითი ან არა ოპერატორი - xor\n",
    "* \\>> წანაცვლება მარჯვნივ\n",
    "* \\<< წანაცვლება მარცხნივ"
   ]
  },
  {
   "cell_type": "markdown",
   "metadata": {},
   "source": [
    "## სხვა ოპერატორები\n",
    "* is - იდენტობის ოპერატორი\n",
    "* in - წევრობის ოპერატორი"
   ]
  },
  {
   "cell_type": "markdown",
   "metadata": {},
   "source": [
    "## მოქმედებების თანმიმდევრობა\n",
    "მოქმედების მაღალი ხარისხი აქვს ოპერატორებს\n",
    "\n",
    "* გამრავლება\n",
    "* / გაყოფა\n",
    "* ** ხარისხი\n",
    "* % ნაშთი\n",
    "* // \n",
    "* | ორობითი შეკრება\n",
    "* & ორობითი ნამრავლი \n",
    "* ~ ინვერსია\n",
    "* ^ ორობითი ან არა ოპერატორი - xor\n",
    "* \\>> წანაცვლება მარჯვნივ\n",
    "* \\<< წანაცვლება მარცხნივ\n",
    "და სრულდება მარცნიდან მარჯვნივ\n",
    "\n",
    "შემდგომ მოდის შეკრება გამოკლება, ხოლო შემდგომ ლოგიკური ოპერატორები "
   ]
  },
  {
   "cell_type": "code",
   "execution_count": null,
   "metadata": {},
   "outputs": [],
   "source": [
    "print('Hello, world')"
   ]
  }
 ],
 "metadata": {
  "kernelspec": {
   "display_name": "Python 3",
   "language": "python",
   "name": "python3"
  },
  "language_info": {
   "codemirror_mode": {
    "name": "ipython",
    "version": 3
   },
   "file_extension": ".py",
   "mimetype": "text/x-python",
   "name": "python",
   "nbconvert_exporter": "python",
   "pygments_lexer": "ipython3",
   "version": "3.8.2"
  }
 },
 "nbformat": 4,
 "nbformat_minor": 4
}
